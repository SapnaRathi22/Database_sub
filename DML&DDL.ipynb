{
 "cells": [
  {
   "cell_type": "code",
   "execution_count": 66,
   "id": "70bee38d-7195-4bfa-b624-5811058c4696",
   "metadata": {},
   "outputs": [],
   "source": [
    "import sqlite3 as sql\n",
    "import pandas as pd"
   ]
  },
  {
   "cell_type": "code",
   "execution_count": 67,
   "id": "2bc166fc-3f88-4ecc-9b18-a52bb1fec991",
   "metadata": {},
   "outputs": [
    {
     "data": {
      "text/plain": [
       "<sqlite3.Connection at 0x2abc340f970>"
      ]
     },
     "execution_count": 67,
     "metadata": {},
     "output_type": "execute_result"
    }
   ],
   "source": [
    "conn = sql.connect('database_Students.sqlite')\n",
    "conn"
   ]
  },
  {
   "cell_type": "code",
   "execution_count": 68,
   "id": "186e5067-67e2-4c7d-b749-9881d545fbeb",
   "metadata": {},
   "outputs": [],
   "source": [
    "##pd.read_sql_query(\"select * from Salaries\", conn)"
   ]
  },
  {
   "cell_type": "code",
   "execution_count": 69,
   "id": "74d972ab-499b-4ba3-a84b-68c75713e39d",
   "metadata": {},
   "outputs": [],
   "source": [
    "def sql_query(q):\n",
    "    return pd.read_sql_query(q,conn)"
   ]
  },
  {
   "cell_type": "code",
   "execution_count": 151,
   "id": "b3ae56d5-5365-4e94-bb3b-3d261a444078",
   "metadata": {},
   "outputs": [],
   "source": [
    "q= '''drop table student; '''\n",
    "conn.execute(q)\n",
    "conn.commit()"
   ]
  },
  {
   "cell_type": "markdown",
   "id": "d204c054-c6d1-4d9d-95aa-018256f70573",
   "metadata": {},
   "source": [
    "#### Create Command"
   ]
  },
  {
   "cell_type": "code",
   "execution_count": 152,
   "id": "0460ac32-5a80-4420-b06c-6d95ce13acfa",
   "metadata": {},
   "outputs": [],
   "source": [
    "q= '''CREATE TABLE student (\n",
    "      ID char(5) Primary Key, \n",
    "      name varchar(20) NOT NULL, \n",
    "      dept_name varchar(20) NOT NULL, \n",
    "      Age numeric(8) NOT NULL\n",
    ")\n",
    "   '''\n",
    "conn.execute(q)\n",
    "conn.commit()"
   ]
  },
  {
   "cell_type": "code",
   "execution_count": 153,
   "id": "0f50825b-3d6a-4c93-9899-57b0c6ab431a",
   "metadata": {},
   "outputs": [
    {
     "data": {
      "text/html": [
       "<div>\n",
       "<style scoped>\n",
       "    .dataframe tbody tr th:only-of-type {\n",
       "        vertical-align: middle;\n",
       "    }\n",
       "\n",
       "    .dataframe tbody tr th {\n",
       "        vertical-align: top;\n",
       "    }\n",
       "\n",
       "    .dataframe thead th {\n",
       "        text-align: right;\n",
       "    }\n",
       "</style>\n",
       "<table border=\"1\" class=\"dataframe\">\n",
       "  <thead>\n",
       "    <tr style=\"text-align: right;\">\n",
       "      <th></th>\n",
       "      <th>name</th>\n",
       "    </tr>\n",
       "  </thead>\n",
       "  <tbody>\n",
       "    <tr>\n",
       "      <th>0</th>\n",
       "      <td>student</td>\n",
       "    </tr>\n",
       "    <tr>\n",
       "      <th>1</th>\n",
       "      <td>sqlite_autoindex_student_1</td>\n",
       "    </tr>\n",
       "  </tbody>\n",
       "</table>\n",
       "</div>"
      ],
      "text/plain": [
       "                         name\n",
       "0                     student\n",
       "1  sqlite_autoindex_student_1"
      ]
     },
     "execution_count": 153,
     "metadata": {},
     "output_type": "execute_result"
    }
   ],
   "source": [
    "q= '''SELECT name FROM sqlite_master'''\n",
    "sql_query(q)"
   ]
  },
  {
   "cell_type": "code",
   "execution_count": 154,
   "id": "81c16314-deca-4c1a-9487-367187621f54",
   "metadata": {},
   "outputs": [
    {
     "data": {
      "text/html": [
       "<div>\n",
       "<style scoped>\n",
       "    .dataframe tbody tr th:only-of-type {\n",
       "        vertical-align: middle;\n",
       "    }\n",
       "\n",
       "    .dataframe tbody tr th {\n",
       "        vertical-align: top;\n",
       "    }\n",
       "\n",
       "    .dataframe thead th {\n",
       "        text-align: right;\n",
       "    }\n",
       "</style>\n",
       "<table border=\"1\" class=\"dataframe\">\n",
       "  <thead>\n",
       "    <tr style=\"text-align: right;\">\n",
       "      <th></th>\n",
       "      <th>name</th>\n",
       "    </tr>\n",
       "  </thead>\n",
       "  <tbody>\n",
       "    <tr>\n",
       "      <th>0</th>\n",
       "      <td>student</td>\n",
       "    </tr>\n",
       "  </tbody>\n",
       "</table>\n",
       "</div>"
      ],
      "text/plain": [
       "      name\n",
       "0  student"
      ]
     },
     "execution_count": 154,
     "metadata": {},
     "output_type": "execute_result"
    }
   ],
   "source": [
    "q= '''SELECT name FROM sqlite_master where type = \"table\"'''\n",
    "sql_query(q)"
   ]
  },
  {
   "cell_type": "code",
   "execution_count": 155,
   "id": "f298d43b-f0b3-443f-8e41-868260ae2c82",
   "metadata": {},
   "outputs": [
    {
     "data": {
      "text/html": [
       "<div>\n",
       "<style scoped>\n",
       "    .dataframe tbody tr th:only-of-type {\n",
       "        vertical-align: middle;\n",
       "    }\n",
       "\n",
       "    .dataframe tbody tr th {\n",
       "        vertical-align: top;\n",
       "    }\n",
       "\n",
       "    .dataframe thead th {\n",
       "        text-align: right;\n",
       "    }\n",
       "</style>\n",
       "<table border=\"1\" class=\"dataframe\">\n",
       "  <thead>\n",
       "    <tr style=\"text-align: right;\">\n",
       "      <th></th>\n",
       "      <th>ID</th>\n",
       "      <th>name</th>\n",
       "      <th>dept_name</th>\n",
       "      <th>Age</th>\n",
       "    </tr>\n",
       "  </thead>\n",
       "  <tbody>\n",
       "  </tbody>\n",
       "</table>\n",
       "</div>"
      ],
      "text/plain": [
       "Empty DataFrame\n",
       "Columns: [ID, name, dept_name, Age]\n",
       "Index: []"
      ]
     },
     "execution_count": 155,
     "metadata": {},
     "output_type": "execute_result"
    }
   ],
   "source": [
    "q= '''SELECT * from student '''\n",
    "sql_query(q)"
   ]
  },
  {
   "cell_type": "markdown",
   "id": "14f915a6-6b75-4e1b-9c8f-21f47550c223",
   "metadata": {},
   "source": [
    "#### Alter"
   ]
  },
  {
   "cell_type": "code",
   "execution_count": 156,
   "id": "883c87ec-f02f-4221-a122-44429e94d46d",
   "metadata": {},
   "outputs": [],
   "source": [
    "q= '''ALTER TABLE student\n",
    "ADD COLUMN fathername VARCHAR(10) NOT NULL;\n",
    "  '''\n",
    "conn.execute(q)\n",
    "conn.commit()"
   ]
  },
  {
   "cell_type": "code",
   "execution_count": 157,
   "id": "1d202dce-7afe-443a-b5b3-6de37b936a02",
   "metadata": {},
   "outputs": [
    {
     "data": {
      "text/html": [
       "<div>\n",
       "<style scoped>\n",
       "    .dataframe tbody tr th:only-of-type {\n",
       "        vertical-align: middle;\n",
       "    }\n",
       "\n",
       "    .dataframe tbody tr th {\n",
       "        vertical-align: top;\n",
       "    }\n",
       "\n",
       "    .dataframe thead th {\n",
       "        text-align: right;\n",
       "    }\n",
       "</style>\n",
       "<table border=\"1\" class=\"dataframe\">\n",
       "  <thead>\n",
       "    <tr style=\"text-align: right;\">\n",
       "      <th></th>\n",
       "      <th>ID</th>\n",
       "      <th>name</th>\n",
       "      <th>dept_name</th>\n",
       "      <th>Age</th>\n",
       "      <th>fathername</th>\n",
       "    </tr>\n",
       "  </thead>\n",
       "  <tbody>\n",
       "  </tbody>\n",
       "</table>\n",
       "</div>"
      ],
      "text/plain": [
       "Empty DataFrame\n",
       "Columns: [ID, name, dept_name, Age, fathername]\n",
       "Index: []"
      ]
     },
     "execution_count": 157,
     "metadata": {},
     "output_type": "execute_result"
    }
   ],
   "source": [
    "q= '''SELECT * from student '''\n",
    "sql_query(q)"
   ]
  },
  {
   "cell_type": "markdown",
   "id": "0dd7ee87-c394-4e8f-80cd-337451af21e8",
   "metadata": {},
   "source": [
    "#### INSERT"
   ]
  },
  {
   "cell_type": "code",
   "execution_count": 158,
   "id": "7f6a8a94-1783-429a-9a27-2942563b134e",
   "metadata": {},
   "outputs": [],
   "source": [
    "q= '''INSERT INTO student (ID, name, dept_name ,age, fathername)\n",
    "VALUES ('B', 'Alice', 'CS', 24 , \"Ahmed\");'''\n",
    "conn.execute(q)\n",
    "conn.commit()"
   ]
  },
  {
   "cell_type": "code",
   "execution_count": 159,
   "id": "c6584478-55a5-451a-ac96-38c71d29fecc",
   "metadata": {},
   "outputs": [
    {
     "data": {
      "text/html": [
       "<div>\n",
       "<style scoped>\n",
       "    .dataframe tbody tr th:only-of-type {\n",
       "        vertical-align: middle;\n",
       "    }\n",
       "\n",
       "    .dataframe tbody tr th {\n",
       "        vertical-align: top;\n",
       "    }\n",
       "\n",
       "    .dataframe thead th {\n",
       "        text-align: right;\n",
       "    }\n",
       "</style>\n",
       "<table border=\"1\" class=\"dataframe\">\n",
       "  <thead>\n",
       "    <tr style=\"text-align: right;\">\n",
       "      <th></th>\n",
       "      <th>ID</th>\n",
       "      <th>name</th>\n",
       "      <th>dept_name</th>\n",
       "      <th>Age</th>\n",
       "      <th>fathername</th>\n",
       "    </tr>\n",
       "  </thead>\n",
       "  <tbody>\n",
       "    <tr>\n",
       "      <th>0</th>\n",
       "      <td>B</td>\n",
       "      <td>Alice</td>\n",
       "      <td>CS</td>\n",
       "      <td>24</td>\n",
       "      <td>Ahmed</td>\n",
       "    </tr>\n",
       "  </tbody>\n",
       "</table>\n",
       "</div>"
      ],
      "text/plain": [
       "  ID   name dept_name  Age fathername\n",
       "0  B  Alice        CS   24      Ahmed"
      ]
     },
     "execution_count": 159,
     "metadata": {},
     "output_type": "execute_result"
    }
   ],
   "source": [
    "q= '''SELECT * from student '''\n",
    "sql_query(q)"
   ]
  },
  {
   "cell_type": "code",
   "execution_count": 160,
   "id": "bd644a1d-f59b-42fa-a207-725423f036ba",
   "metadata": {},
   "outputs": [],
   "source": [
    "q= '''INSERT INTO student (ID, name, dept_name ,age, fathername)\n",
    "VALUES ('sfg', 'Anis', 'CS', 19 , \"XYZ\"),\n",
    "       ('A', 'Fizza', 'CS', 21 , \"XYZ\"),\n",
    "       ('cde', 'Dua', 'CS', 22 , \"XYZ\"),\n",
    "       ('fgh', 'priya', 'CS', 23 , \"XYZ\");\n",
    "       '''\n",
    "conn.execute(q)\n",
    "conn.commit()"
   ]
  },
  {
   "cell_type": "code",
   "execution_count": 161,
   "id": "97c11af7-072f-4556-a9ca-e27038d02dbc",
   "metadata": {},
   "outputs": [
    {
     "data": {
      "text/html": [
       "<div>\n",
       "<style scoped>\n",
       "    .dataframe tbody tr th:only-of-type {\n",
       "        vertical-align: middle;\n",
       "    }\n",
       "\n",
       "    .dataframe tbody tr th {\n",
       "        vertical-align: top;\n",
       "    }\n",
       "\n",
       "    .dataframe thead th {\n",
       "        text-align: right;\n",
       "    }\n",
       "</style>\n",
       "<table border=\"1\" class=\"dataframe\">\n",
       "  <thead>\n",
       "    <tr style=\"text-align: right;\">\n",
       "      <th></th>\n",
       "      <th>ID</th>\n",
       "      <th>name</th>\n",
       "      <th>dept_name</th>\n",
       "      <th>Age</th>\n",
       "      <th>fathername</th>\n",
       "    </tr>\n",
       "  </thead>\n",
       "  <tbody>\n",
       "    <tr>\n",
       "      <th>0</th>\n",
       "      <td>B</td>\n",
       "      <td>Alice</td>\n",
       "      <td>CS</td>\n",
       "      <td>24</td>\n",
       "      <td>Ahmed</td>\n",
       "    </tr>\n",
       "    <tr>\n",
       "      <th>1</th>\n",
       "      <td>sfg</td>\n",
       "      <td>Anis</td>\n",
       "      <td>CS</td>\n",
       "      <td>19</td>\n",
       "      <td>XYZ</td>\n",
       "    </tr>\n",
       "    <tr>\n",
       "      <th>2</th>\n",
       "      <td>A</td>\n",
       "      <td>Fizza</td>\n",
       "      <td>CS</td>\n",
       "      <td>21</td>\n",
       "      <td>XYZ</td>\n",
       "    </tr>\n",
       "    <tr>\n",
       "      <th>3</th>\n",
       "      <td>cde</td>\n",
       "      <td>Dua</td>\n",
       "      <td>CS</td>\n",
       "      <td>22</td>\n",
       "      <td>XYZ</td>\n",
       "    </tr>\n",
       "    <tr>\n",
       "      <th>4</th>\n",
       "      <td>fgh</td>\n",
       "      <td>priya</td>\n",
       "      <td>CS</td>\n",
       "      <td>23</td>\n",
       "      <td>XYZ</td>\n",
       "    </tr>\n",
       "  </tbody>\n",
       "</table>\n",
       "</div>"
      ],
      "text/plain": [
       "    ID   name dept_name  Age fathername\n",
       "0    B  Alice        CS   24      Ahmed\n",
       "1  sfg   Anis        CS   19        XYZ\n",
       "2    A  Fizza        CS   21        XYZ\n",
       "3  cde    Dua        CS   22        XYZ\n",
       "4  fgh  priya        CS   23        XYZ"
      ]
     },
     "execution_count": 161,
     "metadata": {},
     "output_type": "execute_result"
    }
   ],
   "source": [
    "q= '''SELECT * from student '''\n",
    "sql_query(q)"
   ]
  },
  {
   "cell_type": "code",
   "execution_count": 162,
   "id": "00b0b26b-14fb-44ac-9c22-2eeebd7fa13a",
   "metadata": {},
   "outputs": [],
   "source": [
    "q= '''INSERT INTO student VALUES ('sdw', 'Maleeka', 'CS', 29 , \"XYZ\");\n",
    "       '''\n",
    "conn.execute(q)\n",
    "conn.commit()"
   ]
  },
  {
   "cell_type": "code",
   "execution_count": 163,
   "id": "59682bed-811b-436f-b076-90b0079b222a",
   "metadata": {},
   "outputs": [
    {
     "data": {
      "text/html": [
       "<div>\n",
       "<style scoped>\n",
       "    .dataframe tbody tr th:only-of-type {\n",
       "        vertical-align: middle;\n",
       "    }\n",
       "\n",
       "    .dataframe tbody tr th {\n",
       "        vertical-align: top;\n",
       "    }\n",
       "\n",
       "    .dataframe thead th {\n",
       "        text-align: right;\n",
       "    }\n",
       "</style>\n",
       "<table border=\"1\" class=\"dataframe\">\n",
       "  <thead>\n",
       "    <tr style=\"text-align: right;\">\n",
       "      <th></th>\n",
       "      <th>ID</th>\n",
       "      <th>name</th>\n",
       "      <th>dept_name</th>\n",
       "      <th>Age</th>\n",
       "      <th>fathername</th>\n",
       "    </tr>\n",
       "  </thead>\n",
       "  <tbody>\n",
       "    <tr>\n",
       "      <th>0</th>\n",
       "      <td>B</td>\n",
       "      <td>Alice</td>\n",
       "      <td>CS</td>\n",
       "      <td>24</td>\n",
       "      <td>Ahmed</td>\n",
       "    </tr>\n",
       "    <tr>\n",
       "      <th>1</th>\n",
       "      <td>sfg</td>\n",
       "      <td>Anis</td>\n",
       "      <td>CS</td>\n",
       "      <td>19</td>\n",
       "      <td>XYZ</td>\n",
       "    </tr>\n",
       "    <tr>\n",
       "      <th>2</th>\n",
       "      <td>A</td>\n",
       "      <td>Fizza</td>\n",
       "      <td>CS</td>\n",
       "      <td>21</td>\n",
       "      <td>XYZ</td>\n",
       "    </tr>\n",
       "    <tr>\n",
       "      <th>3</th>\n",
       "      <td>cde</td>\n",
       "      <td>Dua</td>\n",
       "      <td>CS</td>\n",
       "      <td>22</td>\n",
       "      <td>XYZ</td>\n",
       "    </tr>\n",
       "    <tr>\n",
       "      <th>4</th>\n",
       "      <td>fgh</td>\n",
       "      <td>priya</td>\n",
       "      <td>CS</td>\n",
       "      <td>23</td>\n",
       "      <td>XYZ</td>\n",
       "    </tr>\n",
       "    <tr>\n",
       "      <th>5</th>\n",
       "      <td>sdw</td>\n",
       "      <td>Maleeka</td>\n",
       "      <td>CS</td>\n",
       "      <td>29</td>\n",
       "      <td>XYZ</td>\n",
       "    </tr>\n",
       "  </tbody>\n",
       "</table>\n",
       "</div>"
      ],
      "text/plain": [
       "    ID     name dept_name  Age fathername\n",
       "0    B    Alice        CS   24      Ahmed\n",
       "1  sfg     Anis        CS   19        XYZ\n",
       "2    A    Fizza        CS   21        XYZ\n",
       "3  cde      Dua        CS   22        XYZ\n",
       "4  fgh    priya        CS   23        XYZ\n",
       "5  sdw  Maleeka        CS   29        XYZ"
      ]
     },
     "execution_count": 163,
     "metadata": {},
     "output_type": "execute_result"
    }
   ],
   "source": [
    "q= '''SELECT * from student '''\n",
    "sql_query(q)"
   ]
  },
  {
   "cell_type": "code",
   "execution_count": 164,
   "id": "486a0c37-838e-4659-9b77-f9445f76be22",
   "metadata": {},
   "outputs": [
    {
     "ename": "OperationalError",
     "evalue": "table student has 5 columns but 4 values were supplied",
     "output_type": "error",
     "traceback": [
      "\u001b[1;31m---------------------------------------------------------------------------\u001b[0m",
      "\u001b[1;31mOperationalError\u001b[0m                          Traceback (most recent call last)",
      "Cell \u001b[1;32mIn[164], line 3\u001b[0m\n\u001b[0;32m      1\u001b[0m q\u001b[38;5;241m=\u001b[39m \u001b[38;5;124m'''\u001b[39m\u001b[38;5;124mINSERT INTO student VALUES (\u001b[39m\u001b[38;5;124m'\u001b[39m\u001b[38;5;124msdw\u001b[39m\u001b[38;5;124m'\u001b[39m\u001b[38;5;124m, \u001b[39m\u001b[38;5;124m'\u001b[39m\u001b[38;5;124mMaleeka\u001b[39m\u001b[38;5;124m'\u001b[39m\u001b[38;5;124m, \u001b[39m\u001b[38;5;124m'\u001b[39m\u001b[38;5;124mCS\u001b[39m\u001b[38;5;124m'\u001b[39m\u001b[38;5;124m , \u001b[39m\u001b[38;5;124m\"\u001b[39m\u001b[38;5;124mXYZ\u001b[39m\u001b[38;5;124m\"\u001b[39m\u001b[38;5;124m);\u001b[39m\n\u001b[0;32m      2\u001b[0m \u001b[38;5;124m       \u001b[39m\u001b[38;5;124m'''\u001b[39m\n\u001b[1;32m----> 3\u001b[0m conn\u001b[38;5;241m.\u001b[39mexecute(q)\n\u001b[0;32m      4\u001b[0m conn\u001b[38;5;241m.\u001b[39mcommit()\n",
      "\u001b[1;31mOperationalError\u001b[0m: table student has 5 columns but 4 values were supplied"
     ]
    }
   ],
   "source": [
    "q= '''INSERT INTO student VALUES ('sdw', 'Maleeka', 'CS' , \"XYZ\");\n",
    "       '''\n",
    "conn.execute(q)\n",
    "conn.commit()"
   ]
  },
  {
   "cell_type": "markdown",
   "id": "e4f5bf7f-0721-40eb-856e-9a4ef3e01fbd",
   "metadata": {},
   "source": [
    "### Rename Table "
   ]
  },
  {
   "cell_type": "code",
   "execution_count": 165,
   "id": "fce70012-b652-4aeb-8215-194b96a25803",
   "metadata": {},
   "outputs": [],
   "source": [
    "q= '''ALTER TABLE student RENAME Column name TO First_name;\n",
    "       '''\n",
    "conn.execute(q)\n",
    "conn.commit()"
   ]
  },
  {
   "cell_type": "code",
   "execution_count": 166,
   "id": "09272080-42df-4064-89af-a05174f76fb3",
   "metadata": {},
   "outputs": [
    {
     "data": {
      "text/html": [
       "<div>\n",
       "<style scoped>\n",
       "    .dataframe tbody tr th:only-of-type {\n",
       "        vertical-align: middle;\n",
       "    }\n",
       "\n",
       "    .dataframe tbody tr th {\n",
       "        vertical-align: top;\n",
       "    }\n",
       "\n",
       "    .dataframe thead th {\n",
       "        text-align: right;\n",
       "    }\n",
       "</style>\n",
       "<table border=\"1\" class=\"dataframe\">\n",
       "  <thead>\n",
       "    <tr style=\"text-align: right;\">\n",
       "      <th></th>\n",
       "      <th>ID</th>\n",
       "      <th>First_name</th>\n",
       "      <th>dept_name</th>\n",
       "      <th>Age</th>\n",
       "      <th>fathername</th>\n",
       "    </tr>\n",
       "  </thead>\n",
       "  <tbody>\n",
       "    <tr>\n",
       "      <th>0</th>\n",
       "      <td>B</td>\n",
       "      <td>Alice</td>\n",
       "      <td>CS</td>\n",
       "      <td>24</td>\n",
       "      <td>Ahmed</td>\n",
       "    </tr>\n",
       "    <tr>\n",
       "      <th>1</th>\n",
       "      <td>sfg</td>\n",
       "      <td>Anis</td>\n",
       "      <td>CS</td>\n",
       "      <td>19</td>\n",
       "      <td>XYZ</td>\n",
       "    </tr>\n",
       "    <tr>\n",
       "      <th>2</th>\n",
       "      <td>A</td>\n",
       "      <td>Fizza</td>\n",
       "      <td>CS</td>\n",
       "      <td>21</td>\n",
       "      <td>XYZ</td>\n",
       "    </tr>\n",
       "    <tr>\n",
       "      <th>3</th>\n",
       "      <td>cde</td>\n",
       "      <td>Dua</td>\n",
       "      <td>CS</td>\n",
       "      <td>22</td>\n",
       "      <td>XYZ</td>\n",
       "    </tr>\n",
       "    <tr>\n",
       "      <th>4</th>\n",
       "      <td>fgh</td>\n",
       "      <td>priya</td>\n",
       "      <td>CS</td>\n",
       "      <td>23</td>\n",
       "      <td>XYZ</td>\n",
       "    </tr>\n",
       "    <tr>\n",
       "      <th>5</th>\n",
       "      <td>sdw</td>\n",
       "      <td>Maleeka</td>\n",
       "      <td>CS</td>\n",
       "      <td>29</td>\n",
       "      <td>XYZ</td>\n",
       "    </tr>\n",
       "  </tbody>\n",
       "</table>\n",
       "</div>"
      ],
      "text/plain": [
       "    ID First_name dept_name  Age fathername\n",
       "0    B      Alice        CS   24      Ahmed\n",
       "1  sfg       Anis        CS   19        XYZ\n",
       "2    A      Fizza        CS   21        XYZ\n",
       "3  cde        Dua        CS   22        XYZ\n",
       "4  fgh      priya        CS   23        XYZ\n",
       "5  sdw    Maleeka        CS   29        XYZ"
      ]
     },
     "execution_count": 166,
     "metadata": {},
     "output_type": "execute_result"
    }
   ],
   "source": [
    "q= '''SELECT * from student '''\n",
    "sql_query(q)"
   ]
  },
  {
   "cell_type": "code",
   "execution_count": 167,
   "id": "fded6cc7-c9b0-48ab-baa0-a8c750cd0686",
   "metadata": {},
   "outputs": [],
   "source": [
    "q= '''ALTER TABLE student RENAME TO student_detail\n",
    "       '''\n",
    "conn.execute(q)\n",
    "conn.commit()"
   ]
  },
  {
   "cell_type": "code",
   "execution_count": 168,
   "id": "db78c802-2a3f-4616-8f31-c8778eb3ca2c",
   "metadata": {},
   "outputs": [
    {
     "ename": "DatabaseError",
     "evalue": "Execution failed on sql 'SELECT * from student ': no such table: student",
     "output_type": "error",
     "traceback": [
      "\u001b[1;31m---------------------------------------------------------------------------\u001b[0m",
      "\u001b[1;31mOperationalError\u001b[0m                          Traceback (most recent call last)",
      "File \u001b[1;32m~\\AppData\\Local\\anaconda3\\Lib\\site-packages\\pandas\\io\\sql.py:2674\u001b[0m, in \u001b[0;36mSQLiteDatabase.execute\u001b[1;34m(self, sql, params)\u001b[0m\n\u001b[0;32m   2673\u001b[0m \u001b[38;5;28;01mtry\u001b[39;00m:\n\u001b[1;32m-> 2674\u001b[0m     cur\u001b[38;5;241m.\u001b[39mexecute(sql, \u001b[38;5;241m*\u001b[39margs)\n\u001b[0;32m   2675\u001b[0m     \u001b[38;5;28;01mreturn\u001b[39;00m cur\n",
      "\u001b[1;31mOperationalError\u001b[0m: no such table: student",
      "\nThe above exception was the direct cause of the following exception:\n",
      "\u001b[1;31mDatabaseError\u001b[0m                             Traceback (most recent call last)",
      "Cell \u001b[1;32mIn[168], line 2\u001b[0m\n\u001b[0;32m      1\u001b[0m q\u001b[38;5;241m=\u001b[39m \u001b[38;5;124m'''\u001b[39m\u001b[38;5;124mSELECT * from student \u001b[39m\u001b[38;5;124m'''\u001b[39m\n\u001b[1;32m----> 2\u001b[0m sql_query(q)\n",
      "Cell \u001b[1;32mIn[69], line 2\u001b[0m, in \u001b[0;36msql_query\u001b[1;34m(q)\u001b[0m\n\u001b[0;32m      1\u001b[0m \u001b[38;5;28;01mdef\u001b[39;00m \u001b[38;5;21msql_query\u001b[39m(q):\n\u001b[1;32m----> 2\u001b[0m     \u001b[38;5;28;01mreturn\u001b[39;00m pd\u001b[38;5;241m.\u001b[39mread_sql_query(q,conn)\n",
      "File \u001b[1;32m~\\AppData\\Local\\anaconda3\\Lib\\site-packages\\pandas\\io\\sql.py:526\u001b[0m, in \u001b[0;36mread_sql_query\u001b[1;34m(sql, con, index_col, coerce_float, params, parse_dates, chunksize, dtype, dtype_backend)\u001b[0m\n\u001b[0;32m    523\u001b[0m \u001b[38;5;28;01massert\u001b[39;00m dtype_backend \u001b[38;5;129;01mis\u001b[39;00m \u001b[38;5;129;01mnot\u001b[39;00m lib\u001b[38;5;241m.\u001b[39mno_default\n\u001b[0;32m    525\u001b[0m \u001b[38;5;28;01mwith\u001b[39;00m pandasSQL_builder(con) \u001b[38;5;28;01mas\u001b[39;00m pandas_sql:\n\u001b[1;32m--> 526\u001b[0m     \u001b[38;5;28;01mreturn\u001b[39;00m pandas_sql\u001b[38;5;241m.\u001b[39mread_query(\n\u001b[0;32m    527\u001b[0m         sql,\n\u001b[0;32m    528\u001b[0m         index_col\u001b[38;5;241m=\u001b[39mindex_col,\n\u001b[0;32m    529\u001b[0m         params\u001b[38;5;241m=\u001b[39mparams,\n\u001b[0;32m    530\u001b[0m         coerce_float\u001b[38;5;241m=\u001b[39mcoerce_float,\n\u001b[0;32m    531\u001b[0m         parse_dates\u001b[38;5;241m=\u001b[39mparse_dates,\n\u001b[0;32m    532\u001b[0m         chunksize\u001b[38;5;241m=\u001b[39mchunksize,\n\u001b[0;32m    533\u001b[0m         dtype\u001b[38;5;241m=\u001b[39mdtype,\n\u001b[0;32m    534\u001b[0m         dtype_backend\u001b[38;5;241m=\u001b[39mdtype_backend,\n\u001b[0;32m    535\u001b[0m     )\n",
      "File \u001b[1;32m~\\AppData\\Local\\anaconda3\\Lib\\site-packages\\pandas\\io\\sql.py:2738\u001b[0m, in \u001b[0;36mSQLiteDatabase.read_query\u001b[1;34m(self, sql, index_col, coerce_float, parse_dates, params, chunksize, dtype, dtype_backend)\u001b[0m\n\u001b[0;32m   2727\u001b[0m \u001b[38;5;28;01mdef\u001b[39;00m \u001b[38;5;21mread_query\u001b[39m(\n\u001b[0;32m   2728\u001b[0m     \u001b[38;5;28mself\u001b[39m,\n\u001b[0;32m   2729\u001b[0m     sql,\n\u001b[1;32m   (...)\u001b[0m\n\u001b[0;32m   2736\u001b[0m     dtype_backend: DtypeBackend \u001b[38;5;241m|\u001b[39m Literal[\u001b[38;5;124m\"\u001b[39m\u001b[38;5;124mnumpy\u001b[39m\u001b[38;5;124m\"\u001b[39m] \u001b[38;5;241m=\u001b[39m \u001b[38;5;124m\"\u001b[39m\u001b[38;5;124mnumpy\u001b[39m\u001b[38;5;124m\"\u001b[39m,\n\u001b[0;32m   2737\u001b[0m ) \u001b[38;5;241m-\u001b[39m\u001b[38;5;241m>\u001b[39m DataFrame \u001b[38;5;241m|\u001b[39m Iterator[DataFrame]:\n\u001b[1;32m-> 2738\u001b[0m     cursor \u001b[38;5;241m=\u001b[39m \u001b[38;5;28mself\u001b[39m\u001b[38;5;241m.\u001b[39mexecute(sql, params)\n\u001b[0;32m   2739\u001b[0m     columns \u001b[38;5;241m=\u001b[39m [col_desc[\u001b[38;5;241m0\u001b[39m] \u001b[38;5;28;01mfor\u001b[39;00m col_desc \u001b[38;5;129;01min\u001b[39;00m cursor\u001b[38;5;241m.\u001b[39mdescription]\n\u001b[0;32m   2741\u001b[0m     \u001b[38;5;28;01mif\u001b[39;00m chunksize \u001b[38;5;129;01mis\u001b[39;00m \u001b[38;5;129;01mnot\u001b[39;00m \u001b[38;5;28;01mNone\u001b[39;00m:\n",
      "File \u001b[1;32m~\\AppData\\Local\\anaconda3\\Lib\\site-packages\\pandas\\io\\sql.py:2686\u001b[0m, in \u001b[0;36mSQLiteDatabase.execute\u001b[1;34m(self, sql, params)\u001b[0m\n\u001b[0;32m   2683\u001b[0m     \u001b[38;5;28;01mraise\u001b[39;00m ex \u001b[38;5;28;01mfrom\u001b[39;00m \u001b[38;5;21;01minner_exc\u001b[39;00m\n\u001b[0;32m   2685\u001b[0m ex \u001b[38;5;241m=\u001b[39m DatabaseError(\u001b[38;5;124mf\u001b[39m\u001b[38;5;124m\"\u001b[39m\u001b[38;5;124mExecution failed on sql \u001b[39m\u001b[38;5;124m'\u001b[39m\u001b[38;5;132;01m{\u001b[39;00msql\u001b[38;5;132;01m}\u001b[39;00m\u001b[38;5;124m'\u001b[39m\u001b[38;5;124m: \u001b[39m\u001b[38;5;132;01m{\u001b[39;00mexc\u001b[38;5;132;01m}\u001b[39;00m\u001b[38;5;124m\"\u001b[39m)\n\u001b[1;32m-> 2686\u001b[0m \u001b[38;5;28;01mraise\u001b[39;00m ex \u001b[38;5;28;01mfrom\u001b[39;00m \u001b[38;5;21;01mexc\u001b[39;00m\n",
      "\u001b[1;31mDatabaseError\u001b[0m: Execution failed on sql 'SELECT * from student ': no such table: student"
     ]
    }
   ],
   "source": [
    "q= '''SELECT * from student '''\n",
    "sql_query(q)"
   ]
  },
  {
   "cell_type": "code",
   "execution_count": 169,
   "id": "d2af1fc8-51c3-4899-b7c7-ef660c64cfa9",
   "metadata": {},
   "outputs": [
    {
     "data": {
      "text/html": [
       "<div>\n",
       "<style scoped>\n",
       "    .dataframe tbody tr th:only-of-type {\n",
       "        vertical-align: middle;\n",
       "    }\n",
       "\n",
       "    .dataframe tbody tr th {\n",
       "        vertical-align: top;\n",
       "    }\n",
       "\n",
       "    .dataframe thead th {\n",
       "        text-align: right;\n",
       "    }\n",
       "</style>\n",
       "<table border=\"1\" class=\"dataframe\">\n",
       "  <thead>\n",
       "    <tr style=\"text-align: right;\">\n",
       "      <th></th>\n",
       "      <th>ID</th>\n",
       "      <th>First_name</th>\n",
       "      <th>dept_name</th>\n",
       "      <th>Age</th>\n",
       "      <th>fathername</th>\n",
       "    </tr>\n",
       "  </thead>\n",
       "  <tbody>\n",
       "    <tr>\n",
       "      <th>0</th>\n",
       "      <td>B</td>\n",
       "      <td>Alice</td>\n",
       "      <td>CS</td>\n",
       "      <td>24</td>\n",
       "      <td>Ahmed</td>\n",
       "    </tr>\n",
       "    <tr>\n",
       "      <th>1</th>\n",
       "      <td>sfg</td>\n",
       "      <td>Anis</td>\n",
       "      <td>CS</td>\n",
       "      <td>19</td>\n",
       "      <td>XYZ</td>\n",
       "    </tr>\n",
       "    <tr>\n",
       "      <th>2</th>\n",
       "      <td>A</td>\n",
       "      <td>Fizza</td>\n",
       "      <td>CS</td>\n",
       "      <td>21</td>\n",
       "      <td>XYZ</td>\n",
       "    </tr>\n",
       "    <tr>\n",
       "      <th>3</th>\n",
       "      <td>cde</td>\n",
       "      <td>Dua</td>\n",
       "      <td>CS</td>\n",
       "      <td>22</td>\n",
       "      <td>XYZ</td>\n",
       "    </tr>\n",
       "    <tr>\n",
       "      <th>4</th>\n",
       "      <td>fgh</td>\n",
       "      <td>priya</td>\n",
       "      <td>CS</td>\n",
       "      <td>23</td>\n",
       "      <td>XYZ</td>\n",
       "    </tr>\n",
       "    <tr>\n",
       "      <th>5</th>\n",
       "      <td>sdw</td>\n",
       "      <td>Maleeka</td>\n",
       "      <td>CS</td>\n",
       "      <td>29</td>\n",
       "      <td>XYZ</td>\n",
       "    </tr>\n",
       "  </tbody>\n",
       "</table>\n",
       "</div>"
      ],
      "text/plain": [
       "    ID First_name dept_name  Age fathername\n",
       "0    B      Alice        CS   24      Ahmed\n",
       "1  sfg       Anis        CS   19        XYZ\n",
       "2    A      Fizza        CS   21        XYZ\n",
       "3  cde        Dua        CS   22        XYZ\n",
       "4  fgh      priya        CS   23        XYZ\n",
       "5  sdw    Maleeka        CS   29        XYZ"
      ]
     },
     "execution_count": 169,
     "metadata": {},
     "output_type": "execute_result"
    }
   ],
   "source": [
    "q= '''SELECT * from student_detail\n",
    "'''\n",
    "sql_query(q)"
   ]
  },
  {
   "cell_type": "code",
   "execution_count": 170,
   "id": "eb642968-eade-423c-8cca-a74dee2b2997",
   "metadata": {},
   "outputs": [
    {
     "data": {
      "text/html": [
       "<div>\n",
       "<style scoped>\n",
       "    .dataframe tbody tr th:only-of-type {\n",
       "        vertical-align: middle;\n",
       "    }\n",
       "\n",
       "    .dataframe tbody tr th {\n",
       "        vertical-align: top;\n",
       "    }\n",
       "\n",
       "    .dataframe thead th {\n",
       "        text-align: right;\n",
       "    }\n",
       "</style>\n",
       "<table border=\"1\" class=\"dataframe\">\n",
       "  <thead>\n",
       "    <tr style=\"text-align: right;\">\n",
       "      <th></th>\n",
       "      <th>name</th>\n",
       "    </tr>\n",
       "  </thead>\n",
       "  <tbody>\n",
       "    <tr>\n",
       "      <th>0</th>\n",
       "      <td>student_detail</td>\n",
       "    </tr>\n",
       "  </tbody>\n",
       "</table>\n",
       "</div>"
      ],
      "text/plain": [
       "             name\n",
       "0  student_detail"
      ]
     },
     "execution_count": 170,
     "metadata": {},
     "output_type": "execute_result"
    }
   ],
   "source": [
    "q= '''SELECT name FROM sqlite_master where type = \"table\"'''\n",
    "sql_query(q)"
   ]
  },
  {
   "cell_type": "code",
   "execution_count": 186,
   "id": "0a4dba51-7bd2-4e73-8ab1-d5b6096a5a05",
   "metadata": {},
   "outputs": [
    {
     "data": {
      "text/plain": [
       "<sqlite3.Cursor at 0x2abc3777440>"
      ]
     },
     "execution_count": 186,
     "metadata": {},
     "output_type": "execute_result"
    }
   ],
   "source": [
    "q= '''Delete from student_detail'''\n",
    "conn.execute(q)"
   ]
  },
  {
   "cell_type": "code",
   "execution_count": 187,
   "id": "c4aa3a78-3b86-4290-a6f4-3ffa367a7d7a",
   "metadata": {},
   "outputs": [
    {
     "data": {
      "text/html": [
       "<div>\n",
       "<style scoped>\n",
       "    .dataframe tbody tr th:only-of-type {\n",
       "        vertical-align: middle;\n",
       "    }\n",
       "\n",
       "    .dataframe tbody tr th {\n",
       "        vertical-align: top;\n",
       "    }\n",
       "\n",
       "    .dataframe thead th {\n",
       "        text-align: right;\n",
       "    }\n",
       "</style>\n",
       "<table border=\"1\" class=\"dataframe\">\n",
       "  <thead>\n",
       "    <tr style=\"text-align: right;\">\n",
       "      <th></th>\n",
       "      <th>ID</th>\n",
       "      <th>First_name</th>\n",
       "      <th>dept_name</th>\n",
       "      <th>Age</th>\n",
       "      <th>fathername</th>\n",
       "    </tr>\n",
       "  </thead>\n",
       "  <tbody>\n",
       "  </tbody>\n",
       "</table>\n",
       "</div>"
      ],
      "text/plain": [
       "Empty DataFrame\n",
       "Columns: [ID, First_name, dept_name, Age, fathername]\n",
       "Index: []"
      ]
     },
     "execution_count": 187,
     "metadata": {},
     "output_type": "execute_result"
    }
   ],
   "source": [
    "q= '''SELECT * from student_detail\n",
    "'''\n",
    "sql_query(q)"
   ]
  },
  {
   "cell_type": "code",
   "execution_count": 189,
   "id": "1d321677-fc1e-42dc-ad39-ef2c7f1a9744",
   "metadata": {},
   "outputs": [
    {
     "data": {
      "text/plain": [
       "<sqlite3.Cursor at 0x2abc37b8ac0>"
      ]
     },
     "execution_count": 189,
     "metadata": {},
     "output_type": "execute_result"
    }
   ],
   "source": [
    "q= '''Drop table student_detail'''\n",
    "conn.execute(q)"
   ]
  },
  {
   "cell_type": "code",
   "execution_count": 190,
   "id": "bd9115fd-dbb3-441a-b554-aa7e617d43ab",
   "metadata": {},
   "outputs": [
    {
     "data": {
      "text/html": [
       "<div>\n",
       "<style scoped>\n",
       "    .dataframe tbody tr th:only-of-type {\n",
       "        vertical-align: middle;\n",
       "    }\n",
       "\n",
       "    .dataframe tbody tr th {\n",
       "        vertical-align: top;\n",
       "    }\n",
       "\n",
       "    .dataframe thead th {\n",
       "        text-align: right;\n",
       "    }\n",
       "</style>\n",
       "<table border=\"1\" class=\"dataframe\">\n",
       "  <thead>\n",
       "    <tr style=\"text-align: right;\">\n",
       "      <th></th>\n",
       "      <th>name</th>\n",
       "    </tr>\n",
       "  </thead>\n",
       "  <tbody>\n",
       "  </tbody>\n",
       "</table>\n",
       "</div>"
      ],
      "text/plain": [
       "Empty DataFrame\n",
       "Columns: [name]\n",
       "Index: []"
      ]
     },
     "execution_count": 190,
     "metadata": {},
     "output_type": "execute_result"
    }
   ],
   "source": [
    "q= '''SELECT name FROM sqlite_master where type = \"table\"'''\n",
    "sql_query(q)"
   ]
  },
  {
   "cell_type": "markdown",
   "id": "b6d225a3-183f-47ed-aae9-fbd310f52753",
   "metadata": {},
   "source": [
    "#  DML  (Insert, update delete, modify)"
   ]
  },
  {
   "cell_type": "code",
   "execution_count": 191,
   "id": "bdd24bac-097b-4820-bcb3-b3f8700ea7ff",
   "metadata": {},
   "outputs": [],
   "source": [
    "q= '''CREATE TABLE Persons (\n",
    "      P_ID char(5) Primary Key, \n",
    "      Name varchar(20) NOT NULL, \n",
    "      Degree char(20) NOT NULL, \n",
    "      weight numeric(3,2) NOT NULL\n",
    ");\n",
    "   '''\n",
    "conn.execute(q)\n",
    "conn.commit()"
   ]
  },
  {
   "cell_type": "code",
   "execution_count": 192,
   "id": "e2459caa-9643-4bfa-a090-5ef20779350e",
   "metadata": {},
   "outputs": [
    {
     "data": {
      "text/html": [
       "<div>\n",
       "<style scoped>\n",
       "    .dataframe tbody tr th:only-of-type {\n",
       "        vertical-align: middle;\n",
       "    }\n",
       "\n",
       "    .dataframe tbody tr th {\n",
       "        vertical-align: top;\n",
       "    }\n",
       "\n",
       "    .dataframe thead th {\n",
       "        text-align: right;\n",
       "    }\n",
       "</style>\n",
       "<table border=\"1\" class=\"dataframe\">\n",
       "  <thead>\n",
       "    <tr style=\"text-align: right;\">\n",
       "      <th></th>\n",
       "      <th>name</th>\n",
       "    </tr>\n",
       "  </thead>\n",
       "  <tbody>\n",
       "    <tr>\n",
       "      <th>0</th>\n",
       "      <td>Persons</td>\n",
       "    </tr>\n",
       "  </tbody>\n",
       "</table>\n",
       "</div>"
      ],
      "text/plain": [
       "      name\n",
       "0  Persons"
      ]
     },
     "execution_count": 192,
     "metadata": {},
     "output_type": "execute_result"
    }
   ],
   "source": [
    "q= '''SELECT name FROM sqlite_master where type = \"table\"'''\n",
    "sql_query(q)"
   ]
  },
  {
   "cell_type": "code",
   "execution_count": 193,
   "id": "1bb563d2-22bc-4dd6-b9ef-ec71dab05e7c",
   "metadata": {},
   "outputs": [],
   "source": [
    "q = '''  INSERT INTO Persons (P_ID, Name, Degree, weight) VALUES\n",
    "('P001', 'Alice', 'BSc', 55.30),\n",
    "('P002', 'Bob', 'MSc', 70.40),\n",
    "('P003', 'Charlie', 'PhD', 80.25),\n",
    "('P004', 'David', 'BSc', 65.10),\n",
    "('P005', 'Eva', 'MSc', 60.85);\n",
    "'''\n",
    "conn.execute(q)\n",
    "conn.commit()"
   ]
  },
  {
   "cell_type": "code",
   "execution_count": 194,
   "id": "11136d9f-d575-45b5-a486-240965c6a745",
   "metadata": {},
   "outputs": [
    {
     "data": {
      "text/html": [
       "<div>\n",
       "<style scoped>\n",
       "    .dataframe tbody tr th:only-of-type {\n",
       "        vertical-align: middle;\n",
       "    }\n",
       "\n",
       "    .dataframe tbody tr th {\n",
       "        vertical-align: top;\n",
       "    }\n",
       "\n",
       "    .dataframe thead th {\n",
       "        text-align: right;\n",
       "    }\n",
       "</style>\n",
       "<table border=\"1\" class=\"dataframe\">\n",
       "  <thead>\n",
       "    <tr style=\"text-align: right;\">\n",
       "      <th></th>\n",
       "      <th>P_ID</th>\n",
       "      <th>Name</th>\n",
       "      <th>Degree</th>\n",
       "      <th>weight</th>\n",
       "    </tr>\n",
       "  </thead>\n",
       "  <tbody>\n",
       "    <tr>\n",
       "      <th>0</th>\n",
       "      <td>P001</td>\n",
       "      <td>Alice</td>\n",
       "      <td>BSc</td>\n",
       "      <td>55.30</td>\n",
       "    </tr>\n",
       "    <tr>\n",
       "      <th>1</th>\n",
       "      <td>P002</td>\n",
       "      <td>Bob</td>\n",
       "      <td>MSc</td>\n",
       "      <td>70.40</td>\n",
       "    </tr>\n",
       "    <tr>\n",
       "      <th>2</th>\n",
       "      <td>P003</td>\n",
       "      <td>Charlie</td>\n",
       "      <td>PhD</td>\n",
       "      <td>80.25</td>\n",
       "    </tr>\n",
       "    <tr>\n",
       "      <th>3</th>\n",
       "      <td>P004</td>\n",
       "      <td>David</td>\n",
       "      <td>BSc</td>\n",
       "      <td>65.10</td>\n",
       "    </tr>\n",
       "    <tr>\n",
       "      <th>4</th>\n",
       "      <td>P005</td>\n",
       "      <td>Eva</td>\n",
       "      <td>MSc</td>\n",
       "      <td>60.85</td>\n",
       "    </tr>\n",
       "  </tbody>\n",
       "</table>\n",
       "</div>"
      ],
      "text/plain": [
       "   P_ID     Name Degree  weight\n",
       "0  P001    Alice    BSc   55.30\n",
       "1  P002      Bob    MSc   70.40\n",
       "2  P003  Charlie    PhD   80.25\n",
       "3  P004    David    BSc   65.10\n",
       "4  P005      Eva    MSc   60.85"
      ]
     },
     "execution_count": 194,
     "metadata": {},
     "output_type": "execute_result"
    }
   ],
   "source": [
    "q = ''' select * from persons'''\n",
    "sql_query(q)"
   ]
  },
  {
   "cell_type": "code",
   "execution_count": 215,
   "id": "e2c53b3f-39c1-487f-919b-7bd61c35f88e",
   "metadata": {},
   "outputs": [],
   "source": [
    "q = ''' Update persons \n",
    "        set Name = 'sapna' where P_ID= 'P001'\n",
    "'''\n",
    "conn.execute(q)\n",
    "conn.commit()"
   ]
  },
  {
   "cell_type": "code",
   "execution_count": 216,
   "id": "715b8691-4528-4d68-8703-e606ee131dd8",
   "metadata": {},
   "outputs": [
    {
     "data": {
      "text/html": [
       "<div>\n",
       "<style scoped>\n",
       "    .dataframe tbody tr th:only-of-type {\n",
       "        vertical-align: middle;\n",
       "    }\n",
       "\n",
       "    .dataframe tbody tr th {\n",
       "        vertical-align: top;\n",
       "    }\n",
       "\n",
       "    .dataframe thead th {\n",
       "        text-align: right;\n",
       "    }\n",
       "</style>\n",
       "<table border=\"1\" class=\"dataframe\">\n",
       "  <thead>\n",
       "    <tr style=\"text-align: right;\">\n",
       "      <th></th>\n",
       "      <th>P_ID</th>\n",
       "      <th>Name</th>\n",
       "      <th>Degree</th>\n",
       "      <th>weight</th>\n",
       "    </tr>\n",
       "  </thead>\n",
       "  <tbody>\n",
       "    <tr>\n",
       "      <th>0</th>\n",
       "      <td>P001</td>\n",
       "      <td>sapna</td>\n",
       "      <td>BSc</td>\n",
       "      <td>55.30</td>\n",
       "    </tr>\n",
       "    <tr>\n",
       "      <th>1</th>\n",
       "      <td>P002</td>\n",
       "      <td>Bob</td>\n",
       "      <td>MSc</td>\n",
       "      <td>70.40</td>\n",
       "    </tr>\n",
       "    <tr>\n",
       "      <th>2</th>\n",
       "      <td>P003</td>\n",
       "      <td>Charlie</td>\n",
       "      <td>PhD</td>\n",
       "      <td>80.25</td>\n",
       "    </tr>\n",
       "    <tr>\n",
       "      <th>3</th>\n",
       "      <td>P004</td>\n",
       "      <td>David</td>\n",
       "      <td>BSc</td>\n",
       "      <td>65.10</td>\n",
       "    </tr>\n",
       "    <tr>\n",
       "      <th>4</th>\n",
       "      <td>P005</td>\n",
       "      <td>Eva</td>\n",
       "      <td>MSc</td>\n",
       "      <td>60.85</td>\n",
       "    </tr>\n",
       "  </tbody>\n",
       "</table>\n",
       "</div>"
      ],
      "text/plain": [
       "   P_ID     Name Degree  weight\n",
       "0  P001    sapna    BSc   55.30\n",
       "1  P002      Bob    MSc   70.40\n",
       "2  P003  Charlie    PhD   80.25\n",
       "3  P004    David    BSc   65.10\n",
       "4  P005      Eva    MSc   60.85"
      ]
     },
     "execution_count": 216,
     "metadata": {},
     "output_type": "execute_result"
    }
   ],
   "source": [
    "q = ''' select * from persons'''\n",
    "sql_query(q)"
   ]
  },
  {
   "cell_type": "code",
   "execution_count": 227,
   "id": "231a52c6-19f7-496a-9926-f44760e7c5e3",
   "metadata": {},
   "outputs": [
    {
     "data": {
      "text/plain": [
       "<sqlite3.Cursor at 0x2abc38749c0>"
      ]
     },
     "execution_count": 227,
     "metadata": {},
     "output_type": "execute_result"
    }
   ],
   "source": [
    "q = ''' Update persons \n",
    "        set Name = ' kawita' where P_ID= 'P003' and Degree= \"PhD\"\n",
    "'''\n",
    "conn.execute(q)\n"
   ]
  },
  {
   "cell_type": "code",
   "execution_count": 230,
   "id": "db39afc3-012f-4e8a-8725-36410b4d65b5",
   "metadata": {},
   "outputs": [
    {
     "data": {
      "text/html": [
       "<div>\n",
       "<style scoped>\n",
       "    .dataframe tbody tr th:only-of-type {\n",
       "        vertical-align: middle;\n",
       "    }\n",
       "\n",
       "    .dataframe tbody tr th {\n",
       "        vertical-align: top;\n",
       "    }\n",
       "\n",
       "    .dataframe thead th {\n",
       "        text-align: right;\n",
       "    }\n",
       "</style>\n",
       "<table border=\"1\" class=\"dataframe\">\n",
       "  <thead>\n",
       "    <tr style=\"text-align: right;\">\n",
       "      <th></th>\n",
       "      <th>P_ID</th>\n",
       "      <th>Name</th>\n",
       "      <th>Degree</th>\n",
       "      <th>weight</th>\n",
       "    </tr>\n",
       "  </thead>\n",
       "  <tbody>\n",
       "    <tr>\n",
       "      <th>0</th>\n",
       "      <td>P001</td>\n",
       "      <td>sapna</td>\n",
       "      <td>BSc</td>\n",
       "      <td>55.30</td>\n",
       "    </tr>\n",
       "    <tr>\n",
       "      <th>1</th>\n",
       "      <td>P002</td>\n",
       "      <td>Bob</td>\n",
       "      <td>MSc</td>\n",
       "      <td>70.40</td>\n",
       "    </tr>\n",
       "    <tr>\n",
       "      <th>2</th>\n",
       "      <td>P003</td>\n",
       "      <td>kawita</td>\n",
       "      <td>PhD</td>\n",
       "      <td>80.25</td>\n",
       "    </tr>\n",
       "    <tr>\n",
       "      <th>3</th>\n",
       "      <td>P004</td>\n",
       "      <td>David</td>\n",
       "      <td>BSc</td>\n",
       "      <td>65.10</td>\n",
       "    </tr>\n",
       "    <tr>\n",
       "      <th>4</th>\n",
       "      <td>P005</td>\n",
       "      <td>Eva</td>\n",
       "      <td>MSc</td>\n",
       "      <td>60.85</td>\n",
       "    </tr>\n",
       "  </tbody>\n",
       "</table>\n",
       "</div>"
      ],
      "text/plain": [
       "   P_ID     Name Degree  weight\n",
       "0  P001    sapna    BSc   55.30\n",
       "1  P002      Bob    MSc   70.40\n",
       "2  P003   kawita    PhD   80.25\n",
       "3  P004    David    BSc   65.10\n",
       "4  P005      Eva    MSc   60.85"
      ]
     },
     "execution_count": 230,
     "metadata": {},
     "output_type": "execute_result"
    }
   ],
   "source": [
    "q = ''' select * from persons'''\n",
    "sql_query(q)"
   ]
  },
  {
   "cell_type": "code",
   "execution_count": 225,
   "id": "7be04672-0340-4a18-a209-f334e87f964e",
   "metadata": {},
   "outputs": [
    {
     "data": {
      "text/plain": [
       "<sqlite3.Cursor at 0x2abc3863440>"
      ]
     },
     "execution_count": 225,
     "metadata": {},
     "output_type": "execute_result"
    }
   ],
   "source": [
    "q = ''' Delete From persons where P_ID= 'P005'\n",
    "'''\n",
    "conn.execute(q)\n"
   ]
  },
  {
   "cell_type": "code",
   "execution_count": 226,
   "id": "0101b978-a29b-4879-872b-3c54e1f75472",
   "metadata": {},
   "outputs": [
    {
     "data": {
      "text/html": [
       "<div>\n",
       "<style scoped>\n",
       "    .dataframe tbody tr th:only-of-type {\n",
       "        vertical-align: middle;\n",
       "    }\n",
       "\n",
       "    .dataframe tbody tr th {\n",
       "        vertical-align: top;\n",
       "    }\n",
       "\n",
       "    .dataframe thead th {\n",
       "        text-align: right;\n",
       "    }\n",
       "</style>\n",
       "<table border=\"1\" class=\"dataframe\">\n",
       "  <thead>\n",
       "    <tr style=\"text-align: right;\">\n",
       "      <th></th>\n",
       "      <th>P_ID</th>\n",
       "      <th>Name</th>\n",
       "      <th>Degree</th>\n",
       "      <th>weight</th>\n",
       "    </tr>\n",
       "  </thead>\n",
       "  <tbody>\n",
       "    <tr>\n",
       "      <th>0</th>\n",
       "      <td>P001</td>\n",
       "      <td>sapna</td>\n",
       "      <td>BSc</td>\n",
       "      <td>55.30</td>\n",
       "    </tr>\n",
       "    <tr>\n",
       "      <th>1</th>\n",
       "      <td>P002</td>\n",
       "      <td>Bob</td>\n",
       "      <td>MSc</td>\n",
       "      <td>70.40</td>\n",
       "    </tr>\n",
       "    <tr>\n",
       "      <th>2</th>\n",
       "      <td>P003</td>\n",
       "      <td>kawita</td>\n",
       "      <td>PhD</td>\n",
       "      <td>80.25</td>\n",
       "    </tr>\n",
       "    <tr>\n",
       "      <th>3</th>\n",
       "      <td>P004</td>\n",
       "      <td>David</td>\n",
       "      <td>BSc</td>\n",
       "      <td>65.10</td>\n",
       "    </tr>\n",
       "  </tbody>\n",
       "</table>\n",
       "</div>"
      ],
      "text/plain": [
       "   P_ID     Name Degree  weight\n",
       "0  P001    sapna    BSc   55.30\n",
       "1  P002      Bob    MSc   70.40\n",
       "2  P003   kawita    PhD   80.25\n",
       "3  P004    David    BSc   65.10"
      ]
     },
     "execution_count": 226,
     "metadata": {},
     "output_type": "execute_result"
    }
   ],
   "source": [
    "q = ''' select * from persons'''\n",
    "sql_query(q)"
   ]
  },
  {
   "cell_type": "code",
   "execution_count": 231,
   "id": "a269973d-69c3-477c-bbef-04f8d7c7528d",
   "metadata": {},
   "outputs": [
    {
     "data": {
      "text/plain": [
       "<sqlite3.Cursor at 0x2abc3875dc0>"
      ]
     },
     "execution_count": 231,
     "metadata": {},
     "output_type": "execute_result"
    }
   ],
   "source": [
    "q = ''' Alter table persons drop column weight '''   ###DDL command\n",
    "conn.execute(q)"
   ]
  },
  {
   "cell_type": "code",
   "execution_count": 232,
   "id": "5757bd70-5e75-4ef4-985f-b2e6ec66a48f",
   "metadata": {},
   "outputs": [
    {
     "data": {
      "text/html": [
       "<div>\n",
       "<style scoped>\n",
       "    .dataframe tbody tr th:only-of-type {\n",
       "        vertical-align: middle;\n",
       "    }\n",
       "\n",
       "    .dataframe tbody tr th {\n",
       "        vertical-align: top;\n",
       "    }\n",
       "\n",
       "    .dataframe thead th {\n",
       "        text-align: right;\n",
       "    }\n",
       "</style>\n",
       "<table border=\"1\" class=\"dataframe\">\n",
       "  <thead>\n",
       "    <tr style=\"text-align: right;\">\n",
       "      <th></th>\n",
       "      <th>P_ID</th>\n",
       "      <th>Name</th>\n",
       "      <th>Degree</th>\n",
       "    </tr>\n",
       "  </thead>\n",
       "  <tbody>\n",
       "    <tr>\n",
       "      <th>0</th>\n",
       "      <td>P001</td>\n",
       "      <td>sapna</td>\n",
       "      <td>BSc</td>\n",
       "    </tr>\n",
       "    <tr>\n",
       "      <th>1</th>\n",
       "      <td>P002</td>\n",
       "      <td>Bob</td>\n",
       "      <td>MSc</td>\n",
       "    </tr>\n",
       "    <tr>\n",
       "      <th>2</th>\n",
       "      <td>P003</td>\n",
       "      <td>kawita</td>\n",
       "      <td>PhD</td>\n",
       "    </tr>\n",
       "    <tr>\n",
       "      <th>3</th>\n",
       "      <td>P004</td>\n",
       "      <td>David</td>\n",
       "      <td>BSc</td>\n",
       "    </tr>\n",
       "    <tr>\n",
       "      <th>4</th>\n",
       "      <td>P005</td>\n",
       "      <td>Eva</td>\n",
       "      <td>MSc</td>\n",
       "    </tr>\n",
       "  </tbody>\n",
       "</table>\n",
       "</div>"
      ],
      "text/plain": [
       "   P_ID     Name Degree\n",
       "0  P001    sapna    BSc\n",
       "1  P002      Bob    MSc\n",
       "2  P003   kawita    PhD\n",
       "3  P004    David    BSc\n",
       "4  P005      Eva    MSc"
      ]
     },
     "execution_count": 232,
     "metadata": {},
     "output_type": "execute_result"
    }
   ],
   "source": [
    "q = ''' select * from persons'''\n",
    "sql_query(q)"
   ]
  },
  {
   "cell_type": "code",
   "execution_count": null,
   "id": "52f6d7c7-038e-4047-884c-7f6fd0a0d19a",
   "metadata": {},
   "outputs": [],
   "source": []
  }
 ],
 "metadata": {
  "kernelspec": {
   "display_name": "Python 3 (ipykernel)",
   "language": "python",
   "name": "python3"
  },
  "language_info": {
   "codemirror_mode": {
    "name": "ipython",
    "version": 3
   },
   "file_extension": ".py",
   "mimetype": "text/x-python",
   "name": "python",
   "nbconvert_exporter": "python",
   "pygments_lexer": "ipython3",
   "version": "3.12.7"
  }
 },
 "nbformat": 4,
 "nbformat_minor": 5
}
