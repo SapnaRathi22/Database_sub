{
 "cells": [
  {
   "cell_type": "code",
   "execution_count": 1,
   "id": "55b265ba-f653-4237-a2d6-dd30a87a8204",
   "metadata": {},
   "outputs": [],
   "source": [
    "import sqlite3 as sql\n",
    "import pandas as pd"
   ]
  },
  {
   "cell_type": "code",
   "execution_count": 2,
   "id": "33b2c69f-a729-4246-83ff-226960364bb0",
   "metadata": {},
   "outputs": [
    {
     "data": {
      "text/plain": [
       "<sqlite3.Connection at 0x192562e46d0>"
      ]
     },
     "execution_count": 2,
     "metadata": {},
     "output_type": "execute_result"
    }
   ],
   "source": [
    "conn = sql.connect('database_subquery.sqlite')\n",
    "conn"
   ]
  },
  {
   "cell_type": "code",
   "execution_count": 3,
   "id": "ab196b9e-894b-4df7-9938-6ccac26e49e6",
   "metadata": {},
   "outputs": [],
   "source": [
    "def sql_query(q):\n",
    "    return pd.read_sql_query(q,conn)"
   ]
  },
  {
   "cell_type": "code",
   "execution_count": 15,
   "id": "ba0b6344-c0e3-4275-95d4-1e23ed24dfa6",
   "metadata": {},
   "outputs": [
    {
     "data": {
      "text/html": [
       "<div>\n",
       "<style scoped>\n",
       "    .dataframe tbody tr th:only-of-type {\n",
       "        vertical-align: middle;\n",
       "    }\n",
       "\n",
       "    .dataframe tbody tr th {\n",
       "        vertical-align: top;\n",
       "    }\n",
       "\n",
       "    .dataframe thead th {\n",
       "        text-align: right;\n",
       "    }\n",
       "</style>\n",
       "<table border=\"1\" class=\"dataframe\">\n",
       "  <thead>\n",
       "    <tr style=\"text-align: right;\">\n",
       "      <th></th>\n",
       "      <th>name</th>\n",
       "    </tr>\n",
       "  </thead>\n",
       "  <tbody>\n",
       "  </tbody>\n",
       "</table>\n",
       "</div>"
      ],
      "text/plain": [
       "Empty DataFrame\n",
       "Columns: [name]\n",
       "Index: []"
      ]
     },
     "execution_count": 15,
     "metadata": {},
     "output_type": "execute_result"
    }
   ],
   "source": [
    "q= '''SELECT name FROM sqlite_master'''\n",
    "sql_query(q)"
   ]
  },
  {
   "cell_type": "code",
   "execution_count": 30,
   "id": "b9d3853a-d070-4e09-93c3-099570a2dcb2",
   "metadata": {},
   "outputs": [
    {
     "ename": "OperationalError",
     "evalue": "table employees already exists",
     "output_type": "error",
     "traceback": [
      "\u001b[1;31m---------------------------------------------------------------------------\u001b[0m",
      "\u001b[1;31mOperationalError\u001b[0m                          Traceback (most recent call last)",
      "Cell \u001b[1;32mIn[30], line 9\u001b[0m\n\u001b[0;32m      1\u001b[0m q \u001b[38;5;241m=\u001b[39m\u001b[38;5;124m'''\u001b[39m\u001b[38;5;124mCREATE TABLE employees (\u001b[39m\n\u001b[0;32m      2\u001b[0m \u001b[38;5;124m      emp_id char(5) Primary Key, \u001b[39m\n\u001b[0;32m      3\u001b[0m \u001b[38;5;124m      name varchar(20) NOT NULL, \u001b[39m\n\u001b[1;32m   (...)\u001b[0m\n\u001b[0;32m      6\u001b[0m \u001b[38;5;124m      manager_id INT(5)\u001b[39m\n\u001b[0;32m      7\u001b[0m \u001b[38;5;124m); \u001b[39m\u001b[38;5;124m'''\u001b[39m\n\u001b[1;32m----> 9\u001b[0m conn\u001b[38;5;241m.\u001b[39mexecute(q)\n\u001b[0;32m     10\u001b[0m conn\u001b[38;5;241m.\u001b[39mcommit()\n",
      "\u001b[1;31mOperationalError\u001b[0m: table employees already exists"
     ]
    }
   ],
   "source": [
    "q ='''CREATE TABLE employees (\n",
    "      emp_id char(5) Primary Key, \n",
    "      name varchar(20) NOT NULL, \n",
    "      department varchar(20) NOT NULL, \n",
    "      Salary INT(8) NOT NULL,\n",
    "      manager_id INT(5)\n",
    "); '''\n",
    "\n",
    "conn.execute(q)\n",
    "conn.commit() ### error because the query executed twice."
   ]
  },
  {
   "cell_type": "code",
   "execution_count": 31,
   "id": "a889602a-c64c-47af-b5db-d3838949b770",
   "metadata": {},
   "outputs": [
    {
     "data": {
      "text/html": [
       "<div>\n",
       "<style scoped>\n",
       "    .dataframe tbody tr th:only-of-type {\n",
       "        vertical-align: middle;\n",
       "    }\n",
       "\n",
       "    .dataframe tbody tr th {\n",
       "        vertical-align: top;\n",
       "    }\n",
       "\n",
       "    .dataframe thead th {\n",
       "        text-align: right;\n",
       "    }\n",
       "</style>\n",
       "<table border=\"1\" class=\"dataframe\">\n",
       "  <thead>\n",
       "    <tr style=\"text-align: right;\">\n",
       "      <th></th>\n",
       "      <th>name</th>\n",
       "    </tr>\n",
       "  </thead>\n",
       "  <tbody>\n",
       "    <tr>\n",
       "      <th>0</th>\n",
       "      <td>employees</td>\n",
       "    </tr>\n",
       "    <tr>\n",
       "      <th>1</th>\n",
       "      <td>sqlite_autoindex_employees_1</td>\n",
       "    </tr>\n",
       "  </tbody>\n",
       "</table>\n",
       "</div>"
      ],
      "text/plain": [
       "                           name\n",
       "0                     employees\n",
       "1  sqlite_autoindex_employees_1"
      ]
     },
     "execution_count": 31,
     "metadata": {},
     "output_type": "execute_result"
    }
   ],
   "source": [
    "\n",
    "q= '''SELECT name FROM sqlite_master'''\n",
    "sql_query(q)"
   ]
  },
  {
   "cell_type": "code",
   "execution_count": 32,
   "id": "8d1b53ad-7082-42f2-aa3c-45f39cbc2f9d",
   "metadata": {},
   "outputs": [],
   "source": [
    "q= '''INSERT INTO employees (emp_id, name, department, Salary ,manager_id)\n",
    "VALUES (1,\t'Alice' ,\t'HR',\t60000,\t5),\n",
    "       (2,\t'Bob',\t'Sales',\t55000,\t5),\n",
    "       (3,\t'Charlie' ,\t'IT',\t70000,\t6),\n",
    "       (4,\t'David',\t'IT', \t72000,\t6),\n",
    "       (5\t, 'Emma',\t'HR',\t90000 ,\tNULL),\n",
    "       (6,\t'Frank'  ,\t'IT',\t95000\t, NULL),\n",
    "       (7,\t'Grace', \t'Sales' ,\t58000 ,\t5)\n",
    ";'''\n",
    "conn.execute(q)\n",
    "conn.commit()"
   ]
  },
  {
   "cell_type": "code",
   "execution_count": 33,
   "id": "7f547989-e48b-4dfe-a110-7feb4ad2e798",
   "metadata": {},
   "outputs": [
    {
     "data": {
      "text/html": [
       "<div>\n",
       "<style scoped>\n",
       "    .dataframe tbody tr th:only-of-type {\n",
       "        vertical-align: middle;\n",
       "    }\n",
       "\n",
       "    .dataframe tbody tr th {\n",
       "        vertical-align: top;\n",
       "    }\n",
       "\n",
       "    .dataframe thead th {\n",
       "        text-align: right;\n",
       "    }\n",
       "</style>\n",
       "<table border=\"1\" class=\"dataframe\">\n",
       "  <thead>\n",
       "    <tr style=\"text-align: right;\">\n",
       "      <th></th>\n",
       "      <th>emp_id</th>\n",
       "      <th>name</th>\n",
       "      <th>department</th>\n",
       "      <th>Salary</th>\n",
       "      <th>manager_id</th>\n",
       "    </tr>\n",
       "  </thead>\n",
       "  <tbody>\n",
       "    <tr>\n",
       "      <th>0</th>\n",
       "      <td>1</td>\n",
       "      <td>Alice</td>\n",
       "      <td>HR</td>\n",
       "      <td>60000</td>\n",
       "      <td>5.0</td>\n",
       "    </tr>\n",
       "    <tr>\n",
       "      <th>1</th>\n",
       "      <td>2</td>\n",
       "      <td>Bob</td>\n",
       "      <td>Sales</td>\n",
       "      <td>55000</td>\n",
       "      <td>5.0</td>\n",
       "    </tr>\n",
       "    <tr>\n",
       "      <th>2</th>\n",
       "      <td>3</td>\n",
       "      <td>Charlie</td>\n",
       "      <td>IT</td>\n",
       "      <td>70000</td>\n",
       "      <td>6.0</td>\n",
       "    </tr>\n",
       "    <tr>\n",
       "      <th>3</th>\n",
       "      <td>4</td>\n",
       "      <td>David</td>\n",
       "      <td>IT</td>\n",
       "      <td>72000</td>\n",
       "      <td>6.0</td>\n",
       "    </tr>\n",
       "    <tr>\n",
       "      <th>4</th>\n",
       "      <td>5</td>\n",
       "      <td>Emma</td>\n",
       "      <td>HR</td>\n",
       "      <td>90000</td>\n",
       "      <td>NaN</td>\n",
       "    </tr>\n",
       "    <tr>\n",
       "      <th>5</th>\n",
       "      <td>6</td>\n",
       "      <td>Frank</td>\n",
       "      <td>IT</td>\n",
       "      <td>95000</td>\n",
       "      <td>NaN</td>\n",
       "    </tr>\n",
       "    <tr>\n",
       "      <th>6</th>\n",
       "      <td>7</td>\n",
       "      <td>Grace</td>\n",
       "      <td>Sales</td>\n",
       "      <td>58000</td>\n",
       "      <td>5.0</td>\n",
       "    </tr>\n",
       "  </tbody>\n",
       "</table>\n",
       "</div>"
      ],
      "text/plain": [
       "  emp_id     name department  Salary  manager_id\n",
       "0      1    Alice         HR   60000         5.0\n",
       "1      2      Bob      Sales   55000         5.0\n",
       "2      3  Charlie         IT   70000         6.0\n",
       "3      4    David         IT   72000         6.0\n",
       "4      5     Emma         HR   90000         NaN\n",
       "5      6    Frank         IT   95000         NaN\n",
       "6      7    Grace      Sales   58000         5.0"
      ]
     },
     "execution_count": 33,
     "metadata": {},
     "output_type": "execute_result"
    }
   ],
   "source": [
    "q= '''SELECT * FROM  employees '''\n",
    "sql_query(q)"
   ]
  },
  {
   "cell_type": "markdown",
   "id": "f376914a-32cb-410e-8caa-f7dafbba08ed",
   "metadata": {},
   "source": [
    "### 1. Find employees who earn more than Alice."
   ]
  },
  {
   "cell_type": "code",
   "execution_count": 34,
   "id": "bf477749-b7f5-4bf4-b72b-f88d0e79fe13",
   "metadata": {},
   "outputs": [
    {
     "data": {
      "text/html": [
       "<div>\n",
       "<style scoped>\n",
       "    .dataframe tbody tr th:only-of-type {\n",
       "        vertical-align: middle;\n",
       "    }\n",
       "\n",
       "    .dataframe tbody tr th {\n",
       "        vertical-align: top;\n",
       "    }\n",
       "\n",
       "    .dataframe thead th {\n",
       "        text-align: right;\n",
       "    }\n",
       "</style>\n",
       "<table border=\"1\" class=\"dataframe\">\n",
       "  <thead>\n",
       "    <tr style=\"text-align: right;\">\n",
       "      <th></th>\n",
       "      <th>name</th>\n",
       "    </tr>\n",
       "  </thead>\n",
       "  <tbody>\n",
       "    <tr>\n",
       "      <th>0</th>\n",
       "      <td>Charlie</td>\n",
       "    </tr>\n",
       "    <tr>\n",
       "      <th>1</th>\n",
       "      <td>David</td>\n",
       "    </tr>\n",
       "    <tr>\n",
       "      <th>2</th>\n",
       "      <td>Emma</td>\n",
       "    </tr>\n",
       "    <tr>\n",
       "      <th>3</th>\n",
       "      <td>Frank</td>\n",
       "    </tr>\n",
       "  </tbody>\n",
       "</table>\n",
       "</div>"
      ],
      "text/plain": [
       "      name\n",
       "0  Charlie\n",
       "1    David\n",
       "2     Emma\n",
       "3    Frank"
      ]
     },
     "execution_count": 34,
     "metadata": {},
     "output_type": "execute_result"
    }
   ],
   "source": [
    "q = ''' SELECT name \n",
    "FROM employees \n",
    "WHERE salary > (SELECT salary FROM employees WHERE name = 'Alice');\n",
    " '''\n",
    "sql_query(q)"
   ]
  },
  {
   "cell_type": "markdown",
   "id": "b99b42d1-bbbe-4862-979d-97ef0fbeb753",
   "metadata": {},
   "source": [
    "### 2. List employees who work in the same department as Emma or Frank."
   ]
  },
  {
   "cell_type": "code",
   "execution_count": 35,
   "id": "463548ee-7b05-49d4-a132-b9133136804d",
   "metadata": {},
   "outputs": [
    {
     "data": {
      "text/html": [
       "<div>\n",
       "<style scoped>\n",
       "    .dataframe tbody tr th:only-of-type {\n",
       "        vertical-align: middle;\n",
       "    }\n",
       "\n",
       "    .dataframe tbody tr th {\n",
       "        vertical-align: top;\n",
       "    }\n",
       "\n",
       "    .dataframe thead th {\n",
       "        text-align: right;\n",
       "    }\n",
       "</style>\n",
       "<table border=\"1\" class=\"dataframe\">\n",
       "  <thead>\n",
       "    <tr style=\"text-align: right;\">\n",
       "      <th></th>\n",
       "      <th>name</th>\n",
       "    </tr>\n",
       "  </thead>\n",
       "  <tbody>\n",
       "    <tr>\n",
       "      <th>0</th>\n",
       "      <td>Alice</td>\n",
       "    </tr>\n",
       "    <tr>\n",
       "      <th>1</th>\n",
       "      <td>Charlie</td>\n",
       "    </tr>\n",
       "    <tr>\n",
       "      <th>2</th>\n",
       "      <td>David</td>\n",
       "    </tr>\n",
       "    <tr>\n",
       "      <th>3</th>\n",
       "      <td>Emma</td>\n",
       "    </tr>\n",
       "    <tr>\n",
       "      <th>4</th>\n",
       "      <td>Frank</td>\n",
       "    </tr>\n",
       "  </tbody>\n",
       "</table>\n",
       "</div>"
      ],
      "text/plain": [
       "      name\n",
       "0    Alice\n",
       "1  Charlie\n",
       "2    David\n",
       "3     Emma\n",
       "4    Frank"
      ]
     },
     "execution_count": 35,
     "metadata": {},
     "output_type": "execute_result"
    }
   ],
   "source": [
    "q = ''' SELECT name \n",
    "FROM employees \n",
    "WHERE department IN (\n",
    "    SELECT department FROM employees WHERE name IN ('Emma', 'Frank')\n",
    ");\n",
    " '''\n",
    "sql_query(q)"
   ]
  },
  {
   "cell_type": "markdown",
   "id": "55afd1a9-a350-409d-b6da-970936c92cf0",
   "metadata": {},
   "source": [
    "### 3. Find employees whose salary is greater than their department's average."
   ]
  },
  {
   "cell_type": "code",
   "execution_count": 36,
   "id": "537b139c-b653-4200-818f-0781c331ed3c",
   "metadata": {},
   "outputs": [
    {
     "data": {
      "text/html": [
       "<div>\n",
       "<style scoped>\n",
       "    .dataframe tbody tr th:only-of-type {\n",
       "        vertical-align: middle;\n",
       "    }\n",
       "\n",
       "    .dataframe tbody tr th {\n",
       "        vertical-align: top;\n",
       "    }\n",
       "\n",
       "    .dataframe thead th {\n",
       "        text-align: right;\n",
       "    }\n",
       "</style>\n",
       "<table border=\"1\" class=\"dataframe\">\n",
       "  <thead>\n",
       "    <tr style=\"text-align: right;\">\n",
       "      <th></th>\n",
       "      <th>name</th>\n",
       "    </tr>\n",
       "  </thead>\n",
       "  <tbody>\n",
       "    <tr>\n",
       "      <th>0</th>\n",
       "      <td>Emma</td>\n",
       "    </tr>\n",
       "    <tr>\n",
       "      <th>1</th>\n",
       "      <td>Frank</td>\n",
       "    </tr>\n",
       "    <tr>\n",
       "      <th>2</th>\n",
       "      <td>Grace</td>\n",
       "    </tr>\n",
       "  </tbody>\n",
       "</table>\n",
       "</div>"
      ],
      "text/plain": [
       "    name\n",
       "0   Emma\n",
       "1  Frank\n",
       "2  Grace"
      ]
     },
     "execution_count": 36,
     "metadata": {},
     "output_type": "execute_result"
    }
   ],
   "source": [
    "q = ''' SELECT name \n",
    "FROM employees e1\n",
    "WHERE salary > (\n",
    "    SELECT AVG(salary) \n",
    "    FROM employees e2 \n",
    "    WHERE e2.department = e1.department\n",
    ");\n",
    " '''\n",
    "sql_query(q)"
   ]
  },
  {
   "cell_type": "markdown",
   "id": "2d7039b1-20bf-433d-bc8a-f8dc750e39e1",
   "metadata": {},
   "source": [
    "### 4. Find the department with the highest paid employee."
   ]
  },
  {
   "cell_type": "code",
   "execution_count": 37,
   "id": "6ec86c58-f11d-4233-a3d7-79a4e977908e",
   "metadata": {},
   "outputs": [
    {
     "data": {
      "text/html": [
       "<div>\n",
       "<style scoped>\n",
       "    .dataframe tbody tr th:only-of-type {\n",
       "        vertical-align: middle;\n",
       "    }\n",
       "\n",
       "    .dataframe tbody tr th {\n",
       "        vertical-align: top;\n",
       "    }\n",
       "\n",
       "    .dataframe thead th {\n",
       "        text-align: right;\n",
       "    }\n",
       "</style>\n",
       "<table border=\"1\" class=\"dataframe\">\n",
       "  <thead>\n",
       "    <tr style=\"text-align: right;\">\n",
       "      <th></th>\n",
       "      <th>department</th>\n",
       "    </tr>\n",
       "  </thead>\n",
       "  <tbody>\n",
       "    <tr>\n",
       "      <th>0</th>\n",
       "      <td>IT</td>\n",
       "    </tr>\n",
       "  </tbody>\n",
       "</table>\n",
       "</div>"
      ],
      "text/plain": [
       "  department\n",
       "0         IT"
      ]
     },
     "execution_count": 37,
     "metadata": {},
     "output_type": "execute_result"
    }
   ],
   "source": [
    "q = '''SELECT department \n",
    "FROM employees \n",
    "WHERE salary = (SELECT MAX(salary) FROM employees);\n",
    "  '''\n",
    "sql_query(q)"
   ]
  },
  {
   "cell_type": "markdown",
   "id": "4923b3cc-ec05-40e4-b592-cfd2e11d1e9a",
   "metadata": {},
   "source": [
    "### 5.List names of employees who are managers (i.e., their emp_id appears in manager_id)."
   ]
  },
  {
   "cell_type": "code",
   "execution_count": 38,
   "id": "9ef646e0-d1ad-4fb3-b714-688d7e1c4578",
   "metadata": {},
   "outputs": [
    {
     "data": {
      "text/html": [
       "<div>\n",
       "<style scoped>\n",
       "    .dataframe tbody tr th:only-of-type {\n",
       "        vertical-align: middle;\n",
       "    }\n",
       "\n",
       "    .dataframe tbody tr th {\n",
       "        vertical-align: top;\n",
       "    }\n",
       "\n",
       "    .dataframe thead th {\n",
       "        text-align: right;\n",
       "    }\n",
       "</style>\n",
       "<table border=\"1\" class=\"dataframe\">\n",
       "  <thead>\n",
       "    <tr style=\"text-align: right;\">\n",
       "      <th></th>\n",
       "      <th>name</th>\n",
       "    </tr>\n",
       "  </thead>\n",
       "  <tbody>\n",
       "    <tr>\n",
       "      <th>0</th>\n",
       "      <td>Emma</td>\n",
       "    </tr>\n",
       "    <tr>\n",
       "      <th>1</th>\n",
       "      <td>Frank</td>\n",
       "    </tr>\n",
       "  </tbody>\n",
       "</table>\n",
       "</div>"
      ],
      "text/plain": [
       "    name\n",
       "0   Emma\n",
       "1  Frank"
      ]
     },
     "execution_count": 38,
     "metadata": {},
     "output_type": "execute_result"
    }
   ],
   "source": [
    "q = '''SELECT name \n",
    "FROM employees \n",
    "WHERE emp_id IN (SELECT DISTINCT manager_id FROM employees WHERE manager_id IS NOT NULL);\n",
    "'''\n",
    "sql_query(q)"
   ]
  },
  {
   "cell_type": "markdown",
   "id": "2cd19789-875a-476b-87f8-62326048c781",
   "metadata": {},
   "source": [
    "### 6. Find employees who earn more than any other employee in their department (i.e., highest in their department)."
   ]
  },
  {
   "cell_type": "code",
   "execution_count": 44,
   "id": "631a3d1d-9726-4d7c-9b13-0da8b19c6576",
   "metadata": {},
   "outputs": [
    {
     "data": {
      "text/html": [
       "<div>\n",
       "<style scoped>\n",
       "    .dataframe tbody tr th:only-of-type {\n",
       "        vertical-align: middle;\n",
       "    }\n",
       "\n",
       "    .dataframe tbody tr th {\n",
       "        vertical-align: top;\n",
       "    }\n",
       "\n",
       "    .dataframe thead th {\n",
       "        text-align: right;\n",
       "    }\n",
       "</style>\n",
       "<table border=\"1\" class=\"dataframe\">\n",
       "  <thead>\n",
       "    <tr style=\"text-align: right;\">\n",
       "      <th></th>\n",
       "      <th>name</th>\n",
       "    </tr>\n",
       "  </thead>\n",
       "  <tbody>\n",
       "    <tr>\n",
       "      <th>0</th>\n",
       "      <td>Emma</td>\n",
       "    </tr>\n",
       "    <tr>\n",
       "      <th>1</th>\n",
       "      <td>Frank</td>\n",
       "    </tr>\n",
       "    <tr>\n",
       "      <th>2</th>\n",
       "      <td>Grace</td>\n",
       "    </tr>\n",
       "  </tbody>\n",
       "</table>\n",
       "</div>"
      ],
      "text/plain": [
       "    name\n",
       "0   Emma\n",
       "1  Frank\n",
       "2  Grace"
      ]
     },
     "execution_count": 44,
     "metadata": {},
     "output_type": "execute_result"
    }
   ],
   "source": [
    "q = '''\n",
    "SELECT name \n",
    "FROM employees e1\n",
    "WHERE NOT EXISTS (\n",
    "    SELECT name \n",
    "    FROM employees e2 \n",
    "    WHERE e2.department = e1.department\n",
    "      AND e2.salary > e1.salary\n",
    ")\n",
    "'''\n",
    "sql_query(q)\n"
   ]
  },
  {
   "cell_type": "markdown",
   "id": "22fa1e47-7276-4f18-bf2e-370b7aebd74d",
   "metadata": {},
   "source": [
    "### 7.Get the name of the lowest paid employee."
   ]
  },
  {
   "cell_type": "code",
   "execution_count": 45,
   "id": "a8ab6e34-49ef-4a55-ae6b-d1f11ca1946f",
   "metadata": {},
   "outputs": [
    {
     "data": {
      "text/html": [
       "<div>\n",
       "<style scoped>\n",
       "    .dataframe tbody tr th:only-of-type {\n",
       "        vertical-align: middle;\n",
       "    }\n",
       "\n",
       "    .dataframe tbody tr th {\n",
       "        vertical-align: top;\n",
       "    }\n",
       "\n",
       "    .dataframe thead th {\n",
       "        text-align: right;\n",
       "    }\n",
       "</style>\n",
       "<table border=\"1\" class=\"dataframe\">\n",
       "  <thead>\n",
       "    <tr style=\"text-align: right;\">\n",
       "      <th></th>\n",
       "      <th>name</th>\n",
       "    </tr>\n",
       "  </thead>\n",
       "  <tbody>\n",
       "    <tr>\n",
       "      <th>0</th>\n",
       "      <td>Bob</td>\n",
       "    </tr>\n",
       "  </tbody>\n",
       "</table>\n",
       "</div>"
      ],
      "text/plain": [
       "  name\n",
       "0  Bob"
      ]
     },
     "execution_count": 45,
     "metadata": {},
     "output_type": "execute_result"
    }
   ],
   "source": [
    "q = '''SELECT name \n",
    "FROM employees \n",
    "WHERE salary = (SELECT MIN(salary) FROM employees);\n",
    "  '''\n",
    "sql_query(q)"
   ]
  },
  {
   "cell_type": "markdown",
   "id": "7c243775-987c-425a-8bf8-b5cacd4f2e2a",
   "metadata": {},
   "source": [
    "### 8. Find employees who have the same salary as someone else."
   ]
  },
  {
   "cell_type": "code",
   "execution_count": 47,
   "id": "55c438e6-8632-4d6b-87c5-da950cf9962e",
   "metadata": {},
   "outputs": [
    {
     "data": {
      "text/html": [
       "<div>\n",
       "<style scoped>\n",
       "    .dataframe tbody tr th:only-of-type {\n",
       "        vertical-align: middle;\n",
       "    }\n",
       "\n",
       "    .dataframe tbody tr th {\n",
       "        vertical-align: top;\n",
       "    }\n",
       "\n",
       "    .dataframe thead th {\n",
       "        text-align: right;\n",
       "    }\n",
       "</style>\n",
       "<table border=\"1\" class=\"dataframe\">\n",
       "  <thead>\n",
       "    <tr style=\"text-align: right;\">\n",
       "      <th></th>\n",
       "      <th>name</th>\n",
       "    </tr>\n",
       "  </thead>\n",
       "  <tbody>\n",
       "  </tbody>\n",
       "</table>\n",
       "</div>"
      ],
      "text/plain": [
       "Empty DataFrame\n",
       "Columns: [name]\n",
       "Index: []"
      ]
     },
     "execution_count": 47,
     "metadata": {},
     "output_type": "execute_result"
    }
   ],
   "source": [
    "q = '''\n",
    "SELECT name \n",
    "FROM employees \n",
    "WHERE salary IN (\n",
    "    SELECT salary \n",
    "    FROM employees \n",
    "    GROUP BY salary \n",
    "    HAVING COUNT(*) > 1\n",
    ");\n",
    " '''\n",
    "sql_query(q)   ### Result : because all the salaries are unique in the table."
   ]
  },
  {
   "cell_type": "markdown",
   "id": "2416d7df-7f53-4aed-92ce-273715fde1bc",
   "metadata": {},
   "source": [
    "### 9.Show employees whose salary is less than their manager's salary."
   ]
  },
  {
   "cell_type": "code",
   "execution_count": 49,
   "id": "2610b8ce-0e32-440d-8df7-249511a6003f",
   "metadata": {},
   "outputs": [
    {
     "data": {
      "text/html": [
       "<div>\n",
       "<style scoped>\n",
       "    .dataframe tbody tr th:only-of-type {\n",
       "        vertical-align: middle;\n",
       "    }\n",
       "\n",
       "    .dataframe tbody tr th {\n",
       "        vertical-align: top;\n",
       "    }\n",
       "\n",
       "    .dataframe thead th {\n",
       "        text-align: right;\n",
       "    }\n",
       "</style>\n",
       "<table border=\"1\" class=\"dataframe\">\n",
       "  <thead>\n",
       "    <tr style=\"text-align: right;\">\n",
       "      <th></th>\n",
       "      <th>name</th>\n",
       "    </tr>\n",
       "  </thead>\n",
       "  <tbody>\n",
       "    <tr>\n",
       "      <th>0</th>\n",
       "      <td>Alice</td>\n",
       "    </tr>\n",
       "    <tr>\n",
       "      <th>1</th>\n",
       "      <td>Bob</td>\n",
       "    </tr>\n",
       "    <tr>\n",
       "      <th>2</th>\n",
       "      <td>Charlie</td>\n",
       "    </tr>\n",
       "    <tr>\n",
       "      <th>3</th>\n",
       "      <td>David</td>\n",
       "    </tr>\n",
       "    <tr>\n",
       "      <th>4</th>\n",
       "      <td>Grace</td>\n",
       "    </tr>\n",
       "  </tbody>\n",
       "</table>\n",
       "</div>"
      ],
      "text/plain": [
       "      name\n",
       "0    Alice\n",
       "1      Bob\n",
       "2  Charlie\n",
       "3    David\n",
       "4    Grace"
      ]
     },
     "execution_count": 49,
     "metadata": {},
     "output_type": "execute_result"
    }
   ],
   "source": [
    "q = ''' SELECT e1.name \n",
    "FROM employees e1 \n",
    "WHERE salary < (\n",
    "    SELECT e2.salary \n",
    "    FROM employees e2 \n",
    "    WHERE e2.emp_id = e1.manager_id\n",
    ");\n",
    " '''\n",
    "sql_query(q)"
   ]
  },
  {
   "cell_type": "markdown",
   "id": "09466d2d-b05b-4f6a-a6e9-80caa3af2d1d",
   "metadata": {},
   "source": [
    "### 10.List names of employees who earn equal to the average salary of their department."
   ]
  },
  {
   "cell_type": "code",
   "execution_count": 50,
   "id": "62cab18f-81e2-4733-ad67-2f376b6c506a",
   "metadata": {},
   "outputs": [
    {
     "data": {
      "text/html": [
       "<div>\n",
       "<style scoped>\n",
       "    .dataframe tbody tr th:only-of-type {\n",
       "        vertical-align: middle;\n",
       "    }\n",
       "\n",
       "    .dataframe tbody tr th {\n",
       "        vertical-align: top;\n",
       "    }\n",
       "\n",
       "    .dataframe thead th {\n",
       "        text-align: right;\n",
       "    }\n",
       "</style>\n",
       "<table border=\"1\" class=\"dataframe\">\n",
       "  <thead>\n",
       "    <tr style=\"text-align: right;\">\n",
       "      <th></th>\n",
       "      <th>name</th>\n",
       "    </tr>\n",
       "  </thead>\n",
       "  <tbody>\n",
       "  </tbody>\n",
       "</table>\n",
       "</div>"
      ],
      "text/plain": [
       "Empty DataFrame\n",
       "Columns: [name]\n",
       "Index: []"
      ]
     },
     "execution_count": 50,
     "metadata": {},
     "output_type": "execute_result"
    }
   ],
   "source": [
    "q = ''' SELECT name \n",
    "FROM employees e1\n",
    "WHERE salary = (\n",
    "    SELECT AVG(salary) \n",
    "    FROM employees e2 \n",
    "    WHERE e2.department = e1.department\n",
    ");\n",
    " '''\n",
    "sql_query(q)   #Result:None (no one’s salary exactly matches the average)"
   ]
  },
  {
   "cell_type": "code",
   "execution_count": null,
   "id": "1478838d-28df-4117-a8f8-c69f2222bc45",
   "metadata": {},
   "outputs": [],
   "source": []
  }
 ],
 "metadata": {
  "kernelspec": {
   "display_name": "Python 3 (ipykernel)",
   "language": "python",
   "name": "python3"
  },
  "language_info": {
   "codemirror_mode": {
    "name": "ipython",
    "version": 3
   },
   "file_extension": ".py",
   "mimetype": "text/x-python",
   "name": "python",
   "nbconvert_exporter": "python",
   "pygments_lexer": "ipython3",
   "version": "3.12.7"
  }
 },
 "nbformat": 4,
 "nbformat_minor": 5
}
